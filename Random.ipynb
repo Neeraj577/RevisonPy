{
  "nbformat": 4,
  "nbformat_minor": 0,
  "metadata": {
    "colab": {
      "provenance": [],
      "authorship_tag": "ABX9TyP9F463CcvtXIWaqdqjKMMC",
      "include_colab_link": true
    },
    "kernelspec": {
      "name": "python3",
      "display_name": "Python 3"
    },
    "language_info": {
      "name": "python"
    }
  },
  "cells": [
    {
      "cell_type": "markdown",
      "metadata": {
        "id": "view-in-github",
        "colab_type": "text"
      },
      "source": [
        "<a href=\"https://colab.research.google.com/github/Neeraj577/RevisonPy/blob/main/Random.ipynb\" target=\"_parent\"><img src=\"https://colab.research.google.com/assets/colab-badge.svg\" alt=\"Open In Colab\"/></a>"
      ]
    },
    {
      "cell_type": "code",
      "source": [
        "# voting assignments\n",
        "\n",
        "temp = int(input(\"Enter your temperature in celsius: \"))\n",
        "print(f\"Input degree in celcius is {temp}. \\n Temp in Ferenheight is : {(temp*9/5)+32}\")\n",
        "fer = (temp*9/5)+32\n",
        "if 0<= fer <=50:\n",
        "  #fer is in betwn 0-50\n",
        "  print(\"Today is cold\")\n",
        "elif 51 <= fer <=70:\n",
        "  print(f\"Today is good day i.e {fer} Temperature\")\n",
        "else:\n",
        "  print(f\"Today is hot day i.e {fer} Temperature\")\n",
        "  #print(f\"You can't vote. You can vote in {18-age} year. \")"
      ],
      "metadata": {
        "colab": {
          "base_uri": "https://localhost:8080/"
        },
        "id": "Ie9tVdzRXWN7",
        "outputId": "463e5750-e7a6-482d-c5db-b668be3677d7"
      },
      "execution_count": null,
      "outputs": [
        {
          "output_type": "stream",
          "name": "stdout",
          "text": [
            "Enter your temperature in celsius: 30\n",
            "Input degree in celcius is 30. \n",
            " Temp in Ferenheight is : 86.0\n",
            "Today is hot day i.e 86.0 Temperature\n"
          ]
        }
      ]
    },
    {
      "cell_type": "code",
      "source": [
        "import random\n",
        "age = random.randint(10,80)\n",
        "print(age)"
      ],
      "metadata": {
        "colab": {
          "base_uri": "https://localhost:8080/"
        },
        "id": "u7v4D7SWiZEw",
        "outputId": "b3522e96-061b-4fbc-d3ae-a97e60a1b0b8"
      },
      "execution_count": null,
      "outputs": [
        {
          "output_type": "stream",
          "name": "stdout",
          "text": [
            "42\n"
          ]
        }
      ]
    }
  ]
}