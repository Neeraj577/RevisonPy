{
  "nbformat": 4,
  "nbformat_minor": 0,
  "metadata": {
    "colab": {
      "provenance": [],
      "authorship_tag": "ABX9TyNk82IWoAq9r4odDCrhHfm5",
      "include_colab_link": true
    },
    "kernelspec": {
      "name": "python3",
      "display_name": "Python 3"
    },
    "language_info": {
      "name": "python"
    }
  },
  "cells": [
    {
      "cell_type": "markdown",
      "metadata": {
        "id": "view-in-github",
        "colab_type": "text"
      },
      "source": [
        "<a href=\"https://colab.research.google.com/github/Neeraj577/RevisonPy/blob/main/Revision.ipynb\" target=\"_parent\"><img src=\"https://colab.research.google.com/assets/colab-badge.svg\" alt=\"Open In Colab\"/></a>"
      ]
    },
    {
      "cell_type": "code",
      "execution_count": 3,
      "metadata": {
        "colab": {
          "base_uri": "https://localhost:8080/"
        },
        "id": "EaRI0PYNcrzR",
        "outputId": "fda54d10-b441-4c65-a543-85efcdd4c841"
      },
      "outputs": [
        {
          "output_type": "stream",
          "name": "stdout",
          "text": [
            "E-nter your name: Nick\n",
            "How are you feeling in scale of 1 to 10: 1\n",
            "Hello, Nick. Why are your feelings just 1 out of 10? \n",
            "Number you choose is odd Nick\n"
          ]
        }
      ],
      "source": [
        "n = input(\"E-nter your name: \")\n",
        "m = int(input(\"How are you feeling in scale of 1 to 10: \"))\n",
        "print(f\"Hello, {n}. Why are your feelings just {m} out of 10? \")\n",
        "if (m % 2) == 0:\n",
        "  print(f\"Number choosen  by {n} is even\")\n",
        "else:\n",
        "  print(f\"Number you choose is odd {n}.\")"
      ]
    }
  ]
}