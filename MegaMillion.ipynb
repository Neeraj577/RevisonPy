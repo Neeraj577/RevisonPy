{
  "nbformat": 4,
  "nbformat_minor": 0,
  "metadata": {
    "colab": {
      "provenance": [],
      "authorship_tag": "ABX9TyMgOHgEeT9k6mMDeP0mtqCk",
      "include_colab_link": true
    },
    "kernelspec": {
      "name": "python3",
      "display_name": "Python 3"
    },
    "language_info": {
      "name": "python"
    }
  },
  "cells": [
    {
      "cell_type": "markdown",
      "metadata": {
        "id": "view-in-github",
        "colab_type": "text"
      },
      "source": [
        "<a href=\"https://colab.research.google.com/github/Neeraj577/RevisonPy/blob/main/MegaMillion.ipynb\" target=\"_parent\"><img src=\"https://colab.research.google.com/assets/colab-badge.svg\" alt=\"Open In Colab\"/></a>"
      ]
    },
    {
      "cell_type": "code",
      "execution_count": 22,
      "metadata": {
        "colab": {
          "base_uri": "https://localhost:8080/"
        },
        "id": "jgAcC9bFASio",
        "outputId": "87998dc9-ff5c-4c02-9373-a71fb6bb2a10"
      },
      "outputs": [
        {
          "output_type": "stream",
          "name": "stdout",
          "text": [
            "Mega Millions Numbers:\n",
            "White Balls: [16, 30, 34, 39, 59]\n",
            "Mega Ball: 24\n"
          ]
        }
      ],
      "source": [
        "import random\n",
        "\n",
        "def generate_mega_millions_numbers():\n",
        "    # Generate 5 random numbers between 1 and 70 (inclusive) for the white balls\n",
        "    white_balls = sorted(random.sample(range(1, 71), 5))\n",
        "\n",
        "    # Generate 1 random number between 1 and 25 (inclusive) for the Mega Ball\n",
        "    mega_ball = random.randint(1, 25)\n",
        "\n",
        "    return white_balls, mega_ball\n",
        "\n",
        "if __name__ == \"__main__\":\n",
        "    white_balls, mega_ball = generate_mega_millions_numbers()\n",
        "    print(\"Mega Millions Numbers:\")\n",
        "    print(\"White Balls:\", white_balls)\n",
        "    print(\"Mega Ball:\", mega_ball)\n"
      ]
    },
    {
      "cell_type": "code",
      "source": [
        "\n",
        "import random\n",
        "\n",
        "def generate_mega_millions_numbers():\n",
        "    white_balls = sorted(random.sample(range(1, 71), 5))\n",
        "    mega_ball = random.randint(1, 25)\n",
        "    return white_balls, mega_ball\n",
        "\n",
        "def check_matching_numbers(given_number, draws=100000000):\n",
        "    matching_draws = []\n",
        "    for _ in range(draws):\n",
        "        white_balls, mega_ball = generate_mega_millions_numbers()\n",
        "        if given_number[0] == white_balls and given_number[1] == mega_ball:\n",
        "            matching_draws.append((_ + 1, white_balls, mega_ball))\n",
        "    return matching_draws\n",
        "\n",
        "if __name__ == \"__main__\":\n",
        "    given_number = ([3, 14, 17, 46, 64], 18)  # Example given number to check\n",
        "    matching_draws = check_matching_numbers(given_number)\n",
        "    if matching_draws:\n",
        "        print(\"The given number matched in the following draws:\")\n",
        "        for draw_num, white_balls, mega_ball in matching_draws:\n",
        "            print(f\"Draw {draw_num}: White Balls: {white_balls}, Mega Ball: {mega_ball}\")\n",
        "    else:\n",
        "        print(\"The given number did not match in any of the 1000000 draws.\")\n"
      ],
      "metadata": {
        "colab": {
          "base_uri": "https://localhost:8080/"
        },
        "id": "RY-qpzIFA9D6",
        "outputId": "19b7fe10-7a31-4317-d1b0-dd6f4830b252"
      },
      "execution_count": 27,
      "outputs": [
        {
          "output_type": "stream",
          "name": "stdout",
          "text": [
            "The given number did not match in any of the 1000000 draws.\n"
          ]
        }
      ]
    },
    {
      "cell_type": "code",
      "source": [
        "import random\n",
        "\n",
        "def generate_mega_millions_numbers():\n",
        "    white_balls = sorted(random.sample(range(1, 71), 5))\n",
        "    mega_ball = random.randint(1, 25)\n",
        "    return white_balls, mega_ball\n",
        "\n",
        "def count_matching_digits(given_number, draws=5000):\n",
        "    matching_digits_counts = []\n",
        "    for _ in range(draws):\n",
        "        white_balls, mega_ball = generate_mega_millions_numbers()\n",
        "        white_ball_matches = len(set(given_number[0]).intersection(set(white_balls)))\n",
        "        mega_ball_match = 1 if given_number[1] == mega_ball else 0\n",
        "        matching_digits_counts.append((white_ball_matches, mega_ball_match))\n",
        "    return matching_digits_counts\n",
        "\n",
        "if __name__ == \"__main__\":\n",
        "    given_number = ([3, 14, 17, 46, 64], 18)  # Example given number to check\n",
        "    matching_digits_counts = count_matching_digits(given_number)\n",
        "\n",
        "    total_white_ball_matches = sum(count[0] for count in matching_digits_counts)\n",
        "    total_mega_ball_matches = sum(count[1] for count in matching_digits_counts)\n",
        "\n",
        "    print(f\"Total white ball matches: {total_white_ball_matches}\")\n",
        "    print(f\"Total mega ball matches: {total_mega_ball_matches}\")\n"
      ],
      "metadata": {
        "colab": {
          "base_uri": "https://localhost:8080/"
        },
        "id": "WElTyHzlIpfg",
        "outputId": "b1383a18-b6ae-486d-980b-906799d3b614"
      },
      "execution_count": 42,
      "outputs": [
        {
          "output_type": "stream",
          "name": "stdout",
          "text": [
            "Total white ball matches: 1742\n",
            "Total mega ball matches: 198\n"
          ]
        }
      ]
    },
    {
      "cell_type": "code",
      "source": [
        "\n",
        "import random\n",
        "\n",
        "def generate_mega_millions_numbers():\n",
        "    white_balls = sorted(random.sample(range(1, 71), 5))\n",
        "    mega_ball = random.randint(1, 25)\n",
        "    return white_balls, mega_ball\n",
        "\n",
        "def count_matching_digits(given_number, draws=500):\n",
        "    match_counts = {0: 0, 1: 0, 2: 0, 3: 0, 4: 0, 5: 0}\n",
        "    for _ in range(draws):\n",
        "        white_balls, mega_ball = generate_mega_millions_numbers()\n",
        "        white_ball_matches = sum(1 for num in given_number[0] if num in white_balls)\n",
        "        mega_ball_match = 1 if given_number[1] == mega_ball else 0\n",
        "        total_matches = white_ball_matches + mega_ball_match\n",
        "        match_counts[total_matches] += 1\n",
        "    return match_counts\n",
        "\n",
        "if __name__ == \"__main__\":\n",
        "    given_number = ([3, 14, 17, 46, 64], 18)  # Example given number to check\n",
        "    matches = count_matching_digits(given_number)\n",
        "    print(\"Number of matching digits:\")\n",
        "    for num_matches, count in matches.items():\n",
        "        print(f\"{num_matches}: {count}\")"
      ],
      "metadata": {
        "colab": {
          "base_uri": "https://localhost:8080/"
        },
        "id": "CwIcxiBIJjoR",
        "outputId": "91f871db-e9a1-44e3-d98a-161861378f6e"
      },
      "execution_count": 62,
      "outputs": [
        {
          "output_type": "stream",
          "name": "stdout",
          "text": [
            "Number of matching digits:\n",
            "0: 330\n",
            "1: 143\n",
            "2: 26\n",
            "3: 1\n",
            "4: 0\n",
            "5: 0\n"
          ]
        }
      ]
    },
    {
      "cell_type": "code",
      "source": [
        "import random\n",
        "\n",
        "def generate_mega_millions_numbers(num_draws=500):\n",
        "    all_numbers = []\n",
        "    for _ in range(num_draws):\n",
        "        white_balls = sorted(random.sample(range(1, 71), 5))\n",
        "        mega_ball = random.randint(1, 25)\n",
        "        all_numbers.append((white_balls, mega_ball))\n",
        "    return all_numbers\n",
        "\n",
        "def compare_with_given_number(given_number, all_numbers):\n",
        "    matching_counts = {i: 0 for i in range(1, 6)}  # Tracks matching counts for 1 to 5 digits\n",
        "    number_appearances = {i: 0 for i in range(1, 71)}  # Tracks how many times each number appeared\n",
        "    for white_balls, mega_ball in all_numbers:\n",
        "        matching_digits = sum(ball in given_number[0] for ball in white_balls)\n",
        "        matching_mega_ball = mega_ball == given_number[1]\n",
        "        if matching_digits + matching_mega_ball in matching_counts:\n",
        "            matching_counts[matching_digits + matching_mega_ball] += 1\n",
        "        for ball in white_balls:\n",
        "            number_appearances[ball] += 1\n",
        "    return matching_counts, number_appearances\n",
        "\n",
        "if __name__ == \"__main__\":\n",
        "    given_number = ([5, 10, 15, 20, 25], 10)  # Example given number\n",
        "    all_numbers = generate_mega_millions_numbers()\n",
        "\n",
        "    matching_counts, number_appearances = compare_with_given_number(given_number, all_numbers)\n",
        "\n",
        "    print(\"Matching Digits Count:\")\n",
        "    for digits_matched, count in matching_counts.items():\n",
        "        print(f\"{digits_matched} digits matched: {count} times\")\n",
        "\n",
        "    print(\"\\nNumber Appearances:\")\n",
        "    for number, appearance_count in number_appearances.items():\n",
        "        print(f\"Number {number}: {appearance_count} times\")\n"
      ],
      "metadata": {
        "colab": {
          "base_uri": "https://localhost:8080/"
        },
        "id": "BKcWY-XZK0KI",
        "outputId": "b71d2ed8-bc13-45d8-abda-afdf2e0f003f"
      },
      "execution_count": 68,
      "outputs": [
        {
          "output_type": "stream",
          "name": "stdout",
          "text": [
            "Matching Digits Count:\n",
            "1 digits matched: 156 times\n",
            "2 digits matched: 24 times\n",
            "3 digits matched: 1 times\n",
            "4 digits matched: 0 times\n",
            "5 digits matched: 0 times\n",
            "\n",
            "Number Appearances:\n",
            "Number 1: 38 times\n",
            "Number 2: 31 times\n",
            "Number 3: 39 times\n",
            "Number 4: 38 times\n",
            "Number 5: 34 times\n",
            "Number 6: 43 times\n",
            "Number 7: 36 times\n",
            "Number 8: 36 times\n",
            "Number 9: 30 times\n",
            "Number 10: 30 times\n",
            "Number 11: 41 times\n",
            "Number 12: 29 times\n",
            "Number 13: 39 times\n",
            "Number 14: 38 times\n",
            "Number 15: 36 times\n",
            "Number 16: 43 times\n",
            "Number 17: 41 times\n",
            "Number 18: 39 times\n",
            "Number 19: 28 times\n",
            "Number 20: 41 times\n",
            "Number 21: 32 times\n",
            "Number 22: 39 times\n",
            "Number 23: 34 times\n",
            "Number 24: 47 times\n",
            "Number 25: 44 times\n",
            "Number 26: 34 times\n",
            "Number 27: 34 times\n",
            "Number 28: 35 times\n",
            "Number 29: 41 times\n",
            "Number 30: 49 times\n",
            "Number 31: 36 times\n",
            "Number 32: 35 times\n",
            "Number 33: 37 times\n",
            "Number 34: 31 times\n",
            "Number 35: 29 times\n",
            "Number 36: 39 times\n",
            "Number 37: 33 times\n",
            "Number 38: 19 times\n",
            "Number 39: 32 times\n",
            "Number 40: 34 times\n",
            "Number 41: 39 times\n",
            "Number 42: 37 times\n",
            "Number 43: 35 times\n",
            "Number 44: 35 times\n",
            "Number 45: 38 times\n",
            "Number 46: 36 times\n",
            "Number 47: 34 times\n",
            "Number 48: 44 times\n",
            "Number 49: 37 times\n",
            "Number 50: 31 times\n",
            "Number 51: 40 times\n",
            "Number 52: 34 times\n",
            "Number 53: 32 times\n",
            "Number 54: 39 times\n",
            "Number 55: 35 times\n",
            "Number 56: 31 times\n",
            "Number 57: 36 times\n",
            "Number 58: 30 times\n",
            "Number 59: 28 times\n",
            "Number 60: 45 times\n",
            "Number 61: 36 times\n",
            "Number 62: 30 times\n",
            "Number 63: 36 times\n",
            "Number 64: 47 times\n",
            "Number 65: 31 times\n",
            "Number 66: 33 times\n",
            "Number 67: 21 times\n",
            "Number 68: 33 times\n",
            "Number 69: 38 times\n",
            "Number 70: 35 times\n"
          ]
        }
      ]
    }
  ]
}