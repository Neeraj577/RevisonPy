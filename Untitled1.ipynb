{
  "nbformat": 4,
  "nbformat_minor": 0,
  "metadata": {
    "colab": {
      "provenance": [],
      "authorship_tag": "ABX9TyPCG5+i47RU/Miy+XLm/Nxo",
      "include_colab_link": true
    },
    "kernelspec": {
      "name": "python3",
      "display_name": "Python 3"
    }
  },
  "cells": [
    {
      "cell_type": "markdown",
      "metadata": {
        "id": "view-in-github",
        "colab_type": "text"
      },
      "source": [
        "<a href=\"https://colab.research.google.com/github/Neeraj577/RevisonPy/blob/main/Untitled1.ipynb\" target=\"_parent\"><img src=\"https://colab.research.google.com/assets/colab-badge.svg\" alt=\"Open In Colab\"/></a>"
      ]
    },
    {
      "cell_type": "code",
      "metadata": {
        "id": "0Q5bBbaWAUol",
        "colab": {
          "base_uri": "https://localhost:8080/",
          "height": 68
        },
        "outputId": "c35aa119-77cc-4e21-8ad7-d1dc4ed105a8"
      },
      "source": [
        "\n",
        "animal = [\"tiger\",\"cat\",\"mouse\"]\n",
        "print(animal)\n",
        "print(len(animal))\n",
        "animal.append(\"dog\")\n",
        "print(animal)\n",
        "\n",
        "\n"
      ],
      "execution_count": null,
      "outputs": [
        {
          "output_type": "stream",
          "text": [
            "['tiger', 'cat', 'mouse']\n",
            "3\n",
            "['tiger', 'cat', 'mouse', 'dog']\n"
          ],
          "name": "stdout"
        }
      ]
    },
    {
      "cell_type": "code",
      "metadata": {
        "outputId": "8cf10601-a2fd-4dbf-e2a4-b0566bdb4514",
        "id": "49WlimUwNXxG",
        "colab": {
          "base_uri": "https://localhost:8080/",
          "height": 102
        }
      },
      "source": [
        "\n",
        "animal = [\"tiger\",\"cat\",\"mouse\"]\n",
        "print(animal)\n",
        "print(len(animal))\n",
        "animal.append(\"dog\")\n",
        "print(animal)\n",
        "print(len(animal))\n",
        "animal.remove(\"cat\")\n",
        "animal.pop(1)\n",
        "print(animal)"
      ],
      "execution_count": null,
      "outputs": [
        {
          "output_type": "stream",
          "text": [
            "['tiger', 'cat', 'mouse']\n",
            "3\n",
            "['tiger', 'cat', 'mouse', 'dog']\n",
            "4\n",
            "['tiger', 'dog']\n"
          ],
          "name": "stdout"
        }
      ]
    },
    {
      "cell_type": "code",
      "metadata": {
        "outputId": "ca8f61b1-e198-496f-a7a0-dbe994f42f55",
        "id": "o1n3veLvNVVm",
        "colab": {
          "base_uri": "https://localhost:8080/",
          "height": 68
        }
      },
      "source": [
        "\n",
        "animal = [\"tiger\",\"cat\",\"mouse\"]\n",
        "print(animal)\n",
        "print(len(animal))\n",
        "animal.append(\"dog\")\n",
        "print(animal)\n"
      ],
      "execution_count": null,
      "outputs": [
        {
          "output_type": "stream",
          "text": [
            "['tiger', 'cat', 'mouse']\n",
            "3\n",
            "['tiger', 'cat', 'mouse', 'dog']\n"
          ],
          "name": "stdout"
        }
      ]
    }
  ]
}