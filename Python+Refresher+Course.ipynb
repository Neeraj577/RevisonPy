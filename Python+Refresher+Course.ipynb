{
  "cells": [
    {
      "cell_type": "markdown",
      "metadata": {
        "id": "view-in-github",
        "colab_type": "text"
      },
      "source": [
        "<a href=\"https://colab.research.google.com/github/Neeraj577/RevisonPy/blob/main/Python%2BRefresher%2BCourse.ipynb\" target=\"_parent\"><img src=\"https://colab.research.google.com/assets/colab-badge.svg\" alt=\"Open In Colab\"/></a>"
      ]
    },
    {
      "cell_type": "markdown",
      "metadata": {
        "id": "ZvFnd3ggErOf"
      },
      "source": [
        "# Python Refresher Course"
      ]
    },
    {
      "cell_type": "markdown",
      "metadata": {
        "id": "svM_n9qTErOh"
      },
      "source": [
        "## Data Types\n",
        "The data type of a value (or variable in some contexts) is an attribute that tells what kind of data that value can have. Data types define particular characteristics of data used in software programs and inform the compilers about predefined attributes required by specific variables or associated data objects."
      ]
    },
    {
      "cell_type": "markdown",
      "metadata": {
        "id": "9TrfDH7OErOi"
      },
      "source": [
        "## Arithmetic Operations"
      ]
    },
    {
      "cell_type": "code",
      "execution_count": null,
      "metadata": {
        "id": "cBIFT3CMErOi",
        "outputId": "8f28b4f0-bb32-4ea5-ca2b-dbffd0ddef5b"
      },
      "outputs": [
        {
          "data": {
            "text/plain": [
              "2"
            ]
          },
          "execution_count": 4,
          "metadata": {},
          "output_type": "execute_result"
        }
      ],
      "source": [
        "1+1"
      ]
    },
    {
      "cell_type": "code",
      "execution_count": null,
      "metadata": {
        "id": "IRtPXxFdErOk",
        "outputId": "745f4a1e-34f1-4261-e732-3ce29230db1b"
      },
      "outputs": [
        {
          "data": {
            "text/plain": [
              "1"
            ]
          },
          "execution_count": 5,
          "metadata": {},
          "output_type": "execute_result"
        }
      ],
      "source": [
        "2-1"
      ]
    },
    {
      "cell_type": "code",
      "execution_count": null,
      "metadata": {
        "id": "kYpRqplHErOl",
        "outputId": "1d9641d9-e524-47d4-fc40-7f034b6f20b7"
      },
      "outputs": [
        {
          "data": {
            "text/plain": [
              "4"
            ]
          },
          "execution_count": 6,
          "metadata": {},
          "output_type": "execute_result"
        }
      ],
      "source": [
        "2*2"
      ]
    },
    {
      "cell_type": "code",
      "execution_count": null,
      "metadata": {
        "id": "9wc45UbzErOl",
        "outputId": "695c44c5-825e-4466-c458-5aafb1327f9a"
      },
      "outputs": [
        {
          "data": {
            "text/plain": [
              "1.0"
            ]
          },
          "execution_count": 7,
          "metadata": {},
          "output_type": "execute_result"
        }
      ],
      "source": [
        "2/2"
      ]
    },
    {
      "cell_type": "code",
      "execution_count": null,
      "metadata": {
        "id": "l6IXS-Q3ErOm",
        "outputId": "3d0559ed-eae0-4554-e94a-6dd5658f43f4"
      },
      "outputs": [
        {
          "data": {
            "text/plain": [
              "4"
            ]
          },
          "execution_count": 8,
          "metadata": {},
          "output_type": "execute_result"
        }
      ],
      "source": [
        "10%6"
      ]
    },
    {
      "cell_type": "code",
      "execution_count": null,
      "metadata": {
        "id": "NCfLtHCvErOm",
        "outputId": "dcf5ae5c-c1fe-465b-e013-7ccbf825a4ec"
      },
      "outputs": [
        {
          "data": {
            "text/plain": [
              "1"
            ]
          },
          "execution_count": 9,
          "metadata": {},
          "output_type": "execute_result"
        }
      ],
      "source": [
        "2//2"
      ]
    },
    {
      "cell_type": "code",
      "execution_count": null,
      "metadata": {
        "id": "yWxJaKsUErOn",
        "outputId": "d796b6c3-7715-46c9-d0b3-ea205dd8cfe4"
      },
      "outputs": [
        {
          "data": {
            "text/plain": [
              "27"
            ]
          },
          "execution_count": 10,
          "metadata": {},
          "output_type": "execute_result"
        }
      ],
      "source": [
        "3**3"
      ]
    },
    {
      "cell_type": "code",
      "execution_count": null,
      "metadata": {
        "id": "Txr4tpngErOn",
        "outputId": "91d310df-f17f-4879-d7c5-e664006327d5"
      },
      "outputs": [
        {
          "data": {
            "text/plain": [
              "1"
            ]
          },
          "execution_count": 12,
          "metadata": {},
          "output_type": "execute_result"
        }
      ],
      "source": [
        "(3-2)*(3-2)"
      ]
    },
    {
      "cell_type": "markdown",
      "metadata": {
        "id": "NZ6jMLEgErOo"
      },
      "source": [
        "## Variable Declaration\n",
        "A Python variable is a reserved memory location to store values."
      ]
    },
    {
      "cell_type": "code",
      "execution_count": null,
      "metadata": {
        "id": "So9sOzCvErOo"
      },
      "outputs": [],
      "source": [
        "a = 1\n",
        "b = 2"
      ]
    },
    {
      "cell_type": "code",
      "execution_count": null,
      "metadata": {
        "id": "JDmgkvQhErOo"
      },
      "outputs": [],
      "source": [
        "c = a+b"
      ]
    },
    {
      "cell_type": "code",
      "execution_count": null,
      "metadata": {
        "id": "KVb3P5CLErOo",
        "outputId": "854d5175-4ca5-4251-843a-909d32ab32d2"
      },
      "outputs": [
        {
          "data": {
            "text/plain": [
              "3"
            ]
          },
          "execution_count": 23,
          "metadata": {},
          "output_type": "execute_result"
        }
      ],
      "source": [
        "c"
      ]
    },
    {
      "cell_type": "code",
      "execution_count": null,
      "metadata": {
        "id": "-LMAbVkXErOp"
      },
      "outputs": [],
      "source": [
        "abc = 1\n",
        "ABC = 2\n",
        "aBc = 3"
      ]
    },
    {
      "cell_type": "code",
      "execution_count": null,
      "metadata": {
        "id": "cdFerLrgErOp",
        "outputId": "f06a0fbc-ee51-4fcb-ead0-a50e46279803"
      },
      "outputs": [
        {
          "data": {
            "text/plain": [
              "1"
            ]
          },
          "execution_count": 33,
          "metadata": {},
          "output_type": "execute_result"
        }
      ],
      "source": [
        "abc"
      ]
    },
    {
      "cell_type": "markdown",
      "metadata": {
        "id": "N0n7inx3ErOp"
      },
      "source": [
        "# Strings"
      ]
    },
    {
      "cell_type": "code",
      "execution_count": null,
      "metadata": {
        "id": "vp-2-MS0ErOp",
        "outputId": "b7a1555f-d4d1-4f8d-c056-45d27c12d72b"
      },
      "outputs": [
        {
          "data": {
            "text/plain": [
              "'abc'"
            ]
          },
          "execution_count": 34,
          "metadata": {},
          "output_type": "execute_result"
        }
      ],
      "source": [
        "'abc'"
      ]
    },
    {
      "cell_type": "code",
      "execution_count": null,
      "metadata": {
        "id": "jbo_SLPiErOq",
        "outputId": "6cea046a-5d86-409c-ac0c-ac0952fc3818"
      },
      "outputs": [
        {
          "data": {
            "text/plain": [
              "'abc'"
            ]
          },
          "execution_count": 35,
          "metadata": {},
          "output_type": "execute_result"
        }
      ],
      "source": [
        "\"abc\""
      ]
    },
    {
      "cell_type": "code",
      "execution_count": null,
      "metadata": {
        "id": "U5ttYyw_ErOq",
        "outputId": "3f541b61-8636-4545-bded-347e5222e13d"
      },
      "outputs": [
        {
          "data": {
            "text/plain": [
              "\"I'm okay!\""
            ]
          },
          "execution_count": 36,
          "metadata": {},
          "output_type": "execute_result"
        }
      ],
      "source": [
        "\"I'm okay!\""
      ]
    },
    {
      "cell_type": "markdown",
      "metadata": {
        "id": "CtW9PhvNErOq"
      },
      "source": [
        "## Printing"
      ]
    },
    {
      "cell_type": "code",
      "execution_count": null,
      "metadata": {
        "id": "6n9lezsHErOq"
      },
      "outputs": [],
      "source": [
        "a = \"Hello\""
      ]
    },
    {
      "cell_type": "code",
      "execution_count": null,
      "metadata": {
        "scrolled": true,
        "id": "mXITPVXdErOq",
        "outputId": "795cafca-9da2-4921-d1d7-c1548a734539"
      },
      "outputs": [
        {
          "data": {
            "text/plain": [
              "'Hello'"
            ]
          },
          "execution_count": 38,
          "metadata": {},
          "output_type": "execute_result"
        }
      ],
      "source": [
        "a"
      ]
    },
    {
      "cell_type": "code",
      "execution_count": null,
      "metadata": {
        "id": "Ga3vIzepErOr",
        "outputId": "83499a74-57bb-45c0-ecfd-2644041752f3"
      },
      "outputs": [
        {
          "name": "stdout",
          "output_type": "stream",
          "text": [
            "Hello\n"
          ]
        }
      ],
      "source": [
        "print(a)"
      ]
    },
    {
      "cell_type": "code",
      "execution_count": null,
      "metadata": {
        "id": "wNatq0rXErOr"
      },
      "outputs": [],
      "source": [
        "name = \"John Doe\"\n",
        "age = 40"
      ]
    },
    {
      "cell_type": "code",
      "execution_count": null,
      "metadata": {
        "id": "LVfRz3S1ErOr",
        "outputId": "4d1e685d-8300-4544-b093-0e4912c8255e"
      },
      "outputs": [
        {
          "name": "stdout",
          "output_type": "stream",
          "text": [
            "The name of John Doe is 40\n"
          ]
        }
      ],
      "source": [
        "print(\"The name of {a} is {b}\".format(a=name, b=age))"
      ]
    },
    {
      "cell_type": "markdown",
      "metadata": {
        "id": "TmPQOD6yErOr"
      },
      "source": [
        "## String Splicing"
      ]
    },
    {
      "cell_type": "code",
      "execution_count": null,
      "metadata": {
        "id": "Rctsbm6vErOr"
      },
      "outputs": [],
      "source": [
        "a = \"abcdefghijklmnop\""
      ]
    },
    {
      "cell_type": "code",
      "execution_count": null,
      "metadata": {
        "id": "UaepdcyzErOs",
        "outputId": "3e5a1128-aec5-404f-e277-70f4e5323255"
      },
      "outputs": [
        {
          "data": {
            "text/plain": [
              "'a'"
            ]
          },
          "execution_count": 44,
          "metadata": {},
          "output_type": "execute_result"
        }
      ],
      "source": [
        "a[0]"
      ]
    },
    {
      "cell_type": "code",
      "execution_count": null,
      "metadata": {
        "id": "zflzj-ZgErOs",
        "outputId": "cc802bb7-78ff-4c53-c39e-58d765b46b75"
      },
      "outputs": [
        {
          "data": {
            "text/plain": [
              "'d'"
            ]
          },
          "execution_count": 45,
          "metadata": {},
          "output_type": "execute_result"
        }
      ],
      "source": [
        "a[3]"
      ]
    },
    {
      "cell_type": "code",
      "execution_count": null,
      "metadata": {
        "id": "pEid22m8ErOs",
        "outputId": "43fdb602-92d7-465a-b3d4-6b2367b3396a"
      },
      "outputs": [
        {
          "data": {
            "text/plain": [
              "'abcdefghijklmnop'"
            ]
          },
          "execution_count": 50,
          "metadata": {},
          "output_type": "execute_result"
        }
      ],
      "source": [
        "a[:]"
      ]
    },
    {
      "cell_type": "markdown",
      "metadata": {
        "id": "qtCd_B5dErOs"
      },
      "source": [
        "## Lists\n",
        "A list is a data structure in Python that is a mutable, or changeable, ordered sequence of elements. Each element or value that is inside of a list is called an item. Just as strings are defined as characters between quotes, lists are defined by having values between square brackets [].\n"
      ]
    },
    {
      "cell_type": "markdown",
      "metadata": {
        "id": "HmsExGaBErOs"
      },
      "source": [
        "Lists are used to store multiple items in a single variable."
      ]
    },
    {
      "cell_type": "code",
      "execution_count": null,
      "metadata": {
        "id": "Rxm3d00HErOt"
      },
      "outputs": [],
      "source": [
        "a=[1,2,3,4,5]"
      ]
    },
    {
      "cell_type": "code",
      "execution_count": null,
      "metadata": {
        "id": "o3U1TOhxErOt",
        "outputId": "f16bd594-2c22-4425-979d-163aa94567cd"
      },
      "outputs": [
        {
          "data": {
            "text/plain": [
              "[1, 2, 3, 4, 5]"
            ]
          },
          "execution_count": 3,
          "metadata": {},
          "output_type": "execute_result"
        }
      ],
      "source": [
        "a"
      ]
    },
    {
      "cell_type": "code",
      "execution_count": null,
      "metadata": {
        "id": "KkraYYBzErOt"
      },
      "outputs": [],
      "source": [
        "b = ['a','b','c','d','e','f']"
      ]
    },
    {
      "cell_type": "code",
      "execution_count": null,
      "metadata": {
        "id": "w0IkBfxKErOt",
        "outputId": "332cc5f0-26c2-4d08-9987-9cfb0662c633"
      },
      "outputs": [
        {
          "data": {
            "text/plain": [
              "['a', 'b', 'c', 'd', 'e', 'f']"
            ]
          },
          "execution_count": 5,
          "metadata": {},
          "output_type": "execute_result"
        }
      ],
      "source": [
        "b"
      ]
    },
    {
      "cell_type": "code",
      "execution_count": null,
      "metadata": {
        "id": "Rrn-XYfpErOu"
      },
      "outputs": [],
      "source": [
        "c = ['a',1,'b',2]"
      ]
    },
    {
      "cell_type": "code",
      "execution_count": null,
      "metadata": {
        "id": "xVvrQV_mErO0",
        "outputId": "1ff22387-f656-45d7-a25a-d3c587d223af"
      },
      "outputs": [
        {
          "data": {
            "text/plain": [
              "['a', 1, 'b', 2]"
            ]
          },
          "execution_count": 7,
          "metadata": {},
          "output_type": "execute_result"
        }
      ],
      "source": [
        "c"
      ]
    },
    {
      "cell_type": "code",
      "execution_count": null,
      "metadata": {
        "id": "32Q_2T4HErO0"
      },
      "outputs": [],
      "source": [
        "a.append(6)"
      ]
    },
    {
      "cell_type": "code",
      "execution_count": null,
      "metadata": {
        "id": "NgvCfRoIErO0",
        "outputId": "50c32bc8-4e76-4daa-92ff-fe7505814a01"
      },
      "outputs": [
        {
          "data": {
            "text/plain": [
              "[1, 2, 3, 4, 5, 6]"
            ]
          },
          "execution_count": 9,
          "metadata": {},
          "output_type": "execute_result"
        }
      ],
      "source": [
        "a"
      ]
    },
    {
      "cell_type": "code",
      "execution_count": null,
      "metadata": {
        "id": "dQL0BtpvErO1"
      },
      "outputs": [],
      "source": [
        "b.append(\"g\")"
      ]
    },
    {
      "cell_type": "code",
      "execution_count": null,
      "metadata": {
        "id": "nlrisHteErO1",
        "outputId": "fe95100c-3104-4f81-a44d-718592a47c40"
      },
      "outputs": [
        {
          "data": {
            "text/plain": [
              "['a', 'b', 'c', 'd', 'e', 'f', 'g']"
            ]
          },
          "execution_count": 11,
          "metadata": {},
          "output_type": "execute_result"
        }
      ],
      "source": [
        "b"
      ]
    },
    {
      "cell_type": "code",
      "execution_count": null,
      "metadata": {
        "id": "Zd82ueI2ErO1",
        "outputId": "60a40a6d-dd9a-44f1-f8c2-00557a417e51"
      },
      "outputs": [
        {
          "data": {
            "text/plain": [
              "1"
            ]
          },
          "execution_count": 12,
          "metadata": {},
          "output_type": "execute_result"
        }
      ],
      "source": [
        "a[0]"
      ]
    },
    {
      "cell_type": "code",
      "execution_count": null,
      "metadata": {
        "id": "sDBFrRSlErO1",
        "outputId": "da854b3d-25f6-43bd-fc9c-31316936887a"
      },
      "outputs": [
        {
          "data": {
            "text/plain": [
              "[2, 3, 4]"
            ]
          },
          "execution_count": 13,
          "metadata": {},
          "output_type": "execute_result"
        }
      ],
      "source": [
        "a[1:4]"
      ]
    },
    {
      "cell_type": "code",
      "execution_count": null,
      "metadata": {
        "id": "UY6l590tErO2",
        "outputId": "bd26f849-951b-46b1-b371-5c4f84043ea6"
      },
      "outputs": [
        {
          "data": {
            "text/plain": [
              "[1, 2, 3, 4]"
            ]
          },
          "execution_count": 14,
          "metadata": {},
          "output_type": "execute_result"
        }
      ],
      "source": [
        "a[:4]"
      ]
    },
    {
      "cell_type": "code",
      "execution_count": null,
      "metadata": {
        "id": "39fwVh7pErO2",
        "outputId": "a7251ef6-e973-449b-dd30-0a28e5656233"
      },
      "outputs": [
        {
          "data": {
            "text/plain": [
              "[3, 4, 5, 6]"
            ]
          },
          "execution_count": 15,
          "metadata": {},
          "output_type": "execute_result"
        }
      ],
      "source": [
        "a[2:]"
      ]
    },
    {
      "cell_type": "code",
      "execution_count": null,
      "metadata": {
        "id": "fNSYPcHPErO2",
        "outputId": "27546aed-b35a-48ec-f4b4-34e6ce014090"
      },
      "outputs": [
        {
          "data": {
            "text/plain": [
              "['a', 'b', 'c', 'd', 'e', 'f', 'g']"
            ]
          },
          "execution_count": 16,
          "metadata": {},
          "output_type": "execute_result"
        }
      ],
      "source": [
        "b"
      ]
    },
    {
      "cell_type": "code",
      "execution_count": null,
      "metadata": {
        "id": "7bR6vgorErO2"
      },
      "outputs": [],
      "source": [
        "b[0]=\"NEW\""
      ]
    },
    {
      "cell_type": "code",
      "execution_count": null,
      "metadata": {
        "id": "tbAOsCYUErO3",
        "outputId": "3f4725e8-f068-4317-ec01-388739519c83"
      },
      "outputs": [
        {
          "data": {
            "text/plain": [
              "['NEW', 'b', 'c', 'd', 'e', 'f', 'g']"
            ]
          },
          "execution_count": 18,
          "metadata": {},
          "output_type": "execute_result"
        }
      ],
      "source": [
        "b"
      ]
    },
    {
      "cell_type": "code",
      "execution_count": null,
      "metadata": {
        "id": "Zx9_8gSDErO3"
      },
      "outputs": [],
      "source": [
        "## NESTED LISTS"
      ]
    },
    {
      "cell_type": "code",
      "execution_count": null,
      "metadata": {
        "id": "lpP-OONEErO3"
      },
      "outputs": [],
      "source": [
        "d"
      ]
    },
    {
      "cell_type": "code",
      "execution_count": null,
      "metadata": {
        "id": "-Cgut4KQErO3",
        "outputId": "e0cc22fa-d497-4411-a2e6-73d819bb9522"
      },
      "outputs": [
        {
          "data": {
            "text/plain": [
              "[1, 2, 3, 4, 5, [6, 7, 8, 9]]"
            ]
          },
          "execution_count": 25,
          "metadata": {},
          "output_type": "execute_result"
        }
      ],
      "source": [
        "d"
      ]
    },
    {
      "cell_type": "markdown",
      "metadata": {
        "id": "wC5dRgMtErO4"
      },
      "source": [
        "## Dictionaries\n",
        "Dictionaries are Python’s implementation of a data structure that is more generally known as an associative array. A dictionary consists of a collection of key-value pairs. Each key-value pair maps the key to its associated value."
      ]
    },
    {
      "cell_type": "markdown",
      "metadata": {
        "id": "8SzOveq2ErO4"
      },
      "source": [
        "You can define a dictionary by enclosing a comma-separated list of key-value pairs in curly braces ({}). A colon (:) separates each key from its associated value"
      ]
    },
    {
      "cell_type": "markdown",
      "metadata": {
        "id": "gBCrhI31ErO5"
      },
      "source": [
        "Dictionaries does not allow duplicates"
      ]
    },
    {
      "cell_type": "code",
      "execution_count": null,
      "metadata": {
        "id": "YeyKvOw8ErO5"
      },
      "outputs": [],
      "source": [
        "a = [1,2,3,4,5]"
      ]
    },
    {
      "cell_type": "code",
      "execution_count": null,
      "metadata": {
        "id": "809WhBJKErO5"
      },
      "outputs": [],
      "source": [
        "b = {\"student1\":\"John Doe\", \"student2\":\"Tom\", \"student3\":\"Jack\"}"
      ]
    },
    {
      "cell_type": "code",
      "execution_count": null,
      "metadata": {
        "id": "tc-RgKcsErO5",
        "outputId": "8730d537-de5a-4dd9-9794-b63730b6de0a"
      },
      "outputs": [
        {
          "data": {
            "text/plain": [
              "'John Doe'"
            ]
          },
          "execution_count": 30,
          "metadata": {},
          "output_type": "execute_result"
        }
      ],
      "source": [
        "b[\"student1\"]"
      ]
    },
    {
      "cell_type": "code",
      "execution_count": null,
      "metadata": {
        "id": "Y3-trRzdErO5",
        "outputId": "52a3e165-58ab-4371-ae5a-b75195ddfea0"
      },
      "outputs": [
        {
          "data": {
            "text/plain": [
              "'Tom'"
            ]
          },
          "execution_count": 31,
          "metadata": {},
          "output_type": "execute_result"
        }
      ],
      "source": [
        "b[\"student2\"]"
      ]
    },
    {
      "cell_type": "code",
      "execution_count": null,
      "metadata": {
        "id": "RmpBXkuGErO6"
      },
      "outputs": [],
      "source": [
        "c = {\"student1\":[1,2,3,4,5]}"
      ]
    },
    {
      "cell_type": "code",
      "execution_count": null,
      "metadata": {
        "id": "nPA7NCFlErO6",
        "outputId": "ef3d51f1-7b57-41d1-da1b-d136fda298b3"
      },
      "outputs": [
        {
          "data": {
            "text/plain": [
              "3"
            ]
          },
          "execution_count": 34,
          "metadata": {},
          "output_type": "execute_result"
        }
      ],
      "source": [
        "c[\"student1\"][2]"
      ]
    },
    {
      "cell_type": "code",
      "execution_count": null,
      "metadata": {
        "id": "ExP-qxQMErO6"
      },
      "outputs": [],
      "source": [
        "c = {\"student1\":{\"age\":20}}"
      ]
    },
    {
      "cell_type": "code",
      "execution_count": null,
      "metadata": {
        "id": "bTIzcifIErO6",
        "outputId": "ab14e8cd-fb6e-42ae-e639-bdf7ad14c306"
      },
      "outputs": [
        {
          "data": {
            "text/plain": [
              "20"
            ]
          },
          "execution_count": 37,
          "metadata": {},
          "output_type": "execute_result"
        }
      ],
      "source": [
        "c[\"student1\"][\"age\"]"
      ]
    },
    {
      "cell_type": "markdown",
      "metadata": {
        "id": "txdjEVADErO7"
      },
      "source": [
        "## Tuples"
      ]
    },
    {
      "cell_type": "markdown",
      "metadata": {
        "id": "zubo9IauErO7"
      },
      "source": [
        "Tuples are used to store multiple items in a single variable.\n",
        "\n",
        "Tuple is one of 4 built-in data types in Python used to store collections of data, the other 3 are List, Set, and Dictionary, all with different qualities and usage.\n",
        "\n",
        "A tuple is a collection which is ordered and unchangeable (IMMUTABLE)\n",
        "\n",
        "Tuples are written with round brackets."
      ]
    },
    {
      "cell_type": "code",
      "execution_count": null,
      "metadata": {
        "id": "S_g3f_FoErO7"
      },
      "outputs": [],
      "source": [
        "a = (1,2,3,4,5)"
      ]
    },
    {
      "cell_type": "code",
      "execution_count": null,
      "metadata": {
        "id": "mcu_Eft6ErO7"
      },
      "outputs": [],
      "source": [
        "b = [1,2,3,4,5]"
      ]
    },
    {
      "cell_type": "code",
      "execution_count": null,
      "metadata": {
        "id": "ccS0_83aErO7"
      },
      "outputs": [],
      "source": [
        "b.append(6)"
      ]
    },
    {
      "cell_type": "code",
      "execution_count": null,
      "metadata": {
        "id": "RhvDvwzvErO8",
        "outputId": "35f748df-1835-4b82-d81e-31cbcaae7023"
      },
      "outputs": [
        {
          "data": {
            "text/plain": [
              "[1, 2, 3, 4, 5, 6]"
            ]
          },
          "execution_count": 41,
          "metadata": {},
          "output_type": "execute_result"
        }
      ],
      "source": [
        "b"
      ]
    },
    {
      "cell_type": "code",
      "execution_count": null,
      "metadata": {
        "id": "BBd51sLNErO8",
        "outputId": "7a0a9a71-2dd3-4899-9e70-40be29f7ad24"
      },
      "outputs": [
        {
          "ename": "AttributeError",
          "evalue": "'tuple' object has no attribute 'append'",
          "output_type": "error",
          "traceback": [
            "\u001b[1;31m---------------------------------------------------------------------------\u001b[0m",
            "\u001b[1;31mAttributeError\u001b[0m                            Traceback (most recent call last)",
            "\u001b[1;32m<ipython-input-42-a09ce8848fdf>\u001b[0m in \u001b[0;36m<module>\u001b[1;34m\u001b[0m\n\u001b[1;32m----> 1\u001b[1;33m \u001b[0ma\u001b[0m\u001b[1;33m.\u001b[0m\u001b[0mappend\u001b[0m\u001b[1;33m(\u001b[0m\u001b[1;36m6\u001b[0m\u001b[1;33m)\u001b[0m\u001b[1;33m\u001b[0m\u001b[1;33m\u001b[0m\u001b[0m\n\u001b[0m",
            "\u001b[1;31mAttributeError\u001b[0m: 'tuple' object has no attribute 'append'"
          ]
        }
      ],
      "source": [
        "a.append(6)"
      ]
    },
    {
      "cell_type": "markdown",
      "metadata": {
        "id": "jhojGlJyErO8"
      },
      "source": [
        "## Sets"
      ]
    },
    {
      "cell_type": "code",
      "execution_count": null,
      "metadata": {
        "id": "08C7er-RErO8"
      },
      "outputs": [],
      "source": [
        "a = {1,2,3,4,5}"
      ]
    },
    {
      "cell_type": "code",
      "execution_count": null,
      "metadata": {
        "id": "9FfsZrcjErO8",
        "outputId": "4cd5e3b7-5511-41f2-e97c-07dd1c7ad7e3"
      },
      "outputs": [
        {
          "data": {
            "text/plain": [
              "{1, 2, 3, 4, 5}"
            ]
          },
          "execution_count": 44,
          "metadata": {},
          "output_type": "execute_result"
        }
      ],
      "source": [
        "a"
      ]
    },
    {
      "cell_type": "code",
      "execution_count": null,
      "metadata": {
        "id": "sE5Y4WcnErO9"
      },
      "outputs": [],
      "source": [
        "a = {1,1,1,1,1,1,1,1,1}"
      ]
    },
    {
      "cell_type": "code",
      "execution_count": null,
      "metadata": {
        "id": "apUaTAf5ErO9",
        "outputId": "7caa9674-a8d8-46bb-c707-c5411633bc08"
      },
      "outputs": [
        {
          "data": {
            "text/plain": [
              "{1}"
            ]
          },
          "execution_count": 46,
          "metadata": {},
          "output_type": "execute_result"
        }
      ],
      "source": [
        "a"
      ]
    },
    {
      "cell_type": "code",
      "execution_count": null,
      "metadata": {
        "id": "QiYHzTHJErO9"
      },
      "outputs": [],
      "source": [
        "b = {1,1,1,2,2,2,3,3,3}"
      ]
    },
    {
      "cell_type": "code",
      "execution_count": null,
      "metadata": {
        "id": "IEK8QX2gErO-",
        "outputId": "8f94c573-e7df-4b82-98e9-4facb24f1f84"
      },
      "outputs": [
        {
          "data": {
            "text/plain": [
              "{1, 2, 3}"
            ]
          },
          "execution_count": 48,
          "metadata": {},
          "output_type": "execute_result"
        }
      ],
      "source": [
        "b"
      ]
    },
    {
      "cell_type": "markdown",
      "metadata": {
        "id": "Ie4khKyHErO-"
      },
      "source": [
        "## Operators"
      ]
    },
    {
      "cell_type": "code",
      "execution_count": null,
      "metadata": {
        "id": "cUOkxY6JErO-",
        "outputId": "ec3488e8-7d27-4e34-ef58-047fb548ef73"
      },
      "outputs": [
        {
          "data": {
            "text/plain": [
              "True"
            ]
          },
          "execution_count": 54,
          "metadata": {},
          "output_type": "execute_result"
        }
      ],
      "source": [
        "1 < 2"
      ]
    },
    {
      "cell_type": "code",
      "execution_count": null,
      "metadata": {
        "id": "cSYZ5vslErO-",
        "outputId": "1a43ac0f-ca73-4deb-fd3d-365f91f82061"
      },
      "outputs": [
        {
          "data": {
            "text/plain": [
              "False"
            ]
          },
          "execution_count": 55,
          "metadata": {},
          "output_type": "execute_result"
        }
      ],
      "source": [
        "2 > 3"
      ]
    },
    {
      "cell_type": "code",
      "execution_count": null,
      "metadata": {
        "id": "Ht8IIMNHErO-",
        "outputId": "8d1c4249-6be5-4d12-a2d0-8c670dd36315"
      },
      "outputs": [
        {
          "data": {
            "text/plain": [
              "True"
            ]
          },
          "execution_count": 56,
          "metadata": {},
          "output_type": "execute_result"
        }
      ],
      "source": [
        "2 <= 3"
      ]
    },
    {
      "cell_type": "code",
      "execution_count": null,
      "metadata": {
        "id": "GOpsT29WErO_",
        "outputId": "767e4cac-6eb3-4864-fc34-6d046b743d1b"
      },
      "outputs": [
        {
          "data": {
            "text/plain": [
              "False"
            ]
          },
          "execution_count": 60,
          "metadata": {},
          "output_type": "execute_result"
        }
      ],
      "source": [
        "3 >= 4"
      ]
    },
    {
      "cell_type": "code",
      "execution_count": null,
      "metadata": {
        "id": "q7_q-WAMErO_",
        "outputId": "d1c79a5b-5010-414b-d5fa-01816f1ad438"
      },
      "outputs": [
        {
          "data": {
            "text/plain": [
              "False"
            ]
          },
          "execution_count": 66,
          "metadata": {},
          "output_type": "execute_result"
        }
      ],
      "source": [
        "2==3"
      ]
    },
    {
      "cell_type": "code",
      "execution_count": null,
      "metadata": {
        "id": "7YW-ziwxErO_",
        "outputId": "d49235cc-da78-4d1c-f123-b7ae7eb43c39"
      },
      "outputs": [
        {
          "data": {
            "text/plain": [
              "False"
            ]
          },
          "execution_count": 68,
          "metadata": {},
          "output_type": "execute_result"
        }
      ],
      "source": [
        "3!=3"
      ]
    },
    {
      "cell_type": "code",
      "execution_count": null,
      "metadata": {
        "id": "Dr8yYXwCErO_"
      },
      "outputs": [],
      "source": [
        "## Logical Operators"
      ]
    },
    {
      "cell_type": "code",
      "execution_count": null,
      "metadata": {
        "id": "xFOYH4x3ErPA",
        "outputId": "8e1bed27-b9e4-4c43-d7e6-28568cb58d50"
      },
      "outputs": [
        {
          "data": {
            "text/plain": [
              "False"
            ]
          },
          "execution_count": 73,
          "metadata": {},
          "output_type": "execute_result"
        }
      ],
      "source": [
        "(1>2) and (2>1)"
      ]
    },
    {
      "cell_type": "code",
      "execution_count": null,
      "metadata": {
        "id": "KcnPgBGYErPA",
        "outputId": "a8ae5a2e-fbd5-489e-9e45-5d50d136c098"
      },
      "outputs": [
        {
          "data": {
            "text/plain": [
              "True"
            ]
          },
          "execution_count": 74,
          "metadata": {},
          "output_type": "execute_result"
        }
      ],
      "source": [
        "(1>2) or (2>1)"
      ]
    },
    {
      "cell_type": "markdown",
      "metadata": {
        "id": "KEKg4b0MErPA"
      },
      "source": [
        "## If Else Statements"
      ]
    },
    {
      "cell_type": "code",
      "execution_count": null,
      "metadata": {
        "id": "DgTDgfnlErPA",
        "outputId": "d3f0386f-d1db-4218-9c52-3fc4a25b5393"
      },
      "outputs": [
        {
          "name": "stdout",
          "output_type": "stream",
          "text": [
            "Task failed\n"
          ]
        }
      ],
      "source": [
        "if 1>2:\n",
        "    print(\"Task Successful\")\n",
        "elif 3>4:\n",
        "    print(\"Task 2 Successful\")\n",
        "else:\n",
        "    print(\"Task failed\")"
      ]
    },
    {
      "cell_type": "markdown",
      "metadata": {
        "id": "b9K6r4-eErPA"
      },
      "source": [
        "## For Loops"
      ]
    },
    {
      "cell_type": "code",
      "execution_count": null,
      "metadata": {
        "id": "dWbVDLIRErPB",
        "outputId": "ccf630b6-f976-4388-9859-bfe5b99cf14a"
      },
      "outputs": [
        {
          "name": "stdout",
          "output_type": "stream",
          "text": [
            "The element is : 1\n",
            "The element is : 2\n",
            "The element is : 3\n",
            "The element is : 4\n",
            "The element is : 5\n"
          ]
        }
      ],
      "source": [
        "a = [1,2,3,4,5]\n",
        "\n",
        "for temp in a:\n",
        "    print(\"The element is : {}\".format(temp))"
      ]
    },
    {
      "cell_type": "markdown",
      "metadata": {
        "id": "n7QCJGd9ErPB"
      },
      "source": [
        "## While Loops"
      ]
    },
    {
      "cell_type": "code",
      "execution_count": null,
      "metadata": {
        "id": "yxYT2mfpErPB",
        "outputId": "af5c6089-9cbe-4c35-ccfd-c9b4b3b0c953"
      },
      "outputs": [
        {
          "name": "stdout",
          "output_type": "stream",
          "text": [
            "HELLO\n",
            "HELLO\n",
            "HELLO\n",
            "HELLO\n"
          ]
        }
      ],
      "source": [
        "a = 1\n",
        "\n",
        "while a<5:\n",
        "    print(\"HELLO\")\n",
        "    a = a+1"
      ]
    },
    {
      "cell_type": "markdown",
      "metadata": {
        "id": "99mZZTe6ErPB"
      },
      "source": [
        "## Functions"
      ]
    },
    {
      "cell_type": "markdown",
      "metadata": {
        "id": "ia8exmFOErPC"
      },
      "source": [
        "A function can be defined as the organized block of reusable code, which can be called whenever required.\n",
        "\n",
        "A function is a block of code which only runs when it is called.\n",
        "\n",
        "You can pass data, known as parameters, into a function.\n",
        "\n",
        "A function can return data as a result."
      ]
    },
    {
      "cell_type": "code",
      "execution_count": null,
      "metadata": {
        "id": "y-VbHN4DErPC",
        "outputId": "ba7b8ad4-47b2-4bbd-cefb-0f61a8a933c1"
      },
      "outputs": [
        {
          "data": {
            "text/plain": [
              "'HELLO'"
            ]
          },
          "execution_count": 27,
          "metadata": {},
          "output_type": "execute_result"
        }
      ],
      "source": [
        "\"hello\".upper()"
      ]
    },
    {
      "cell_type": "code",
      "execution_count": null,
      "metadata": {
        "id": "fuPZGmUVErPC",
        "outputId": "4edcf567-86b1-4338-b8a4-bd363cc6f4ed"
      },
      "outputs": [
        {
          "data": {
            "text/plain": [
              "'hello'"
            ]
          },
          "execution_count": 28,
          "metadata": {},
          "output_type": "execute_result"
        }
      ],
      "source": [
        "\"HELLO\".lower()"
      ]
    },
    {
      "cell_type": "code",
      "execution_count": null,
      "metadata": {
        "id": "x4EoucGYErPC"
      },
      "outputs": [],
      "source": [
        "a = [1,2,3,4,5]"
      ]
    },
    {
      "cell_type": "code",
      "execution_count": null,
      "metadata": {
        "id": "7-ZZlFhbErPC",
        "outputId": "ce6ec261-8516-4838-f5d4-374279078093"
      },
      "outputs": [
        {
          "data": {
            "text/plain": [
              "5"
            ]
          },
          "execution_count": 29,
          "metadata": {},
          "output_type": "execute_result"
        }
      ],
      "source": [
        "len(a)"
      ]
    },
    {
      "cell_type": "code",
      "execution_count": null,
      "metadata": {
        "id": "DjZ79x8lErPD",
        "outputId": "46eca563-6385-4601-fcd6-969ac2c5cadd"
      },
      "outputs": [
        {
          "data": {
            "text/plain": [
              "15"
            ]
          },
          "execution_count": 30,
          "metadata": {},
          "output_type": "execute_result"
        }
      ],
      "source": [
        "sum(a)"
      ]
    },
    {
      "cell_type": "markdown",
      "metadata": {
        "id": "VOZ22xxTErPD"
      },
      "source": [
        "## Defining Your Own Function"
      ]
    },
    {
      "cell_type": "code",
      "execution_count": null,
      "metadata": {
        "id": "L6YcTKCqErPD"
      },
      "outputs": [],
      "source": [
        "def greet(name):\n",
        "    print(\"Good Morning \"+name)"
      ]
    },
    {
      "cell_type": "code",
      "execution_count": null,
      "metadata": {
        "id": "VbOfNHmFErPD",
        "outputId": "2f78774e-fec8-435c-ef86-dc06986e0a1a"
      },
      "outputs": [
        {
          "name": "stdout",
          "output_type": "stream",
          "text": [
            "Good Morning Jack\n"
          ]
        }
      ],
      "source": [
        "greet(\"Jack\")"
      ]
    },
    {
      "cell_type": "code",
      "execution_count": null,
      "metadata": {
        "id": "n-eO2CBSErPD"
      },
      "outputs": [],
      "source": [
        "def square(a):\n",
        "    print(a**2)"
      ]
    },
    {
      "cell_type": "code",
      "execution_count": null,
      "metadata": {
        "id": "hVnEQK95ErPE",
        "outputId": "61f2d6b8-05fc-4540-8a0f-831170e51b82"
      },
      "outputs": [
        {
          "name": "stdout",
          "output_type": "stream",
          "text": [
            "10000\n"
          ]
        }
      ],
      "source": [
        "square(100)"
      ]
    },
    {
      "cell_type": "code",
      "execution_count": null,
      "metadata": {
        "id": "GTVS1ityErPE"
      },
      "outputs": [],
      "source": [
        "def square(a):\n",
        "    return a**2"
      ]
    },
    {
      "cell_type": "code",
      "execution_count": null,
      "metadata": {
        "id": "3zR5uiBbErPE"
      },
      "outputs": [],
      "source": [
        "b = square(100)"
      ]
    },
    {
      "cell_type": "code",
      "execution_count": null,
      "metadata": {
        "id": "Jg9mOlfrErPE"
      },
      "outputs": [],
      "source": []
    },
    {
      "cell_type": "code",
      "execution_count": null,
      "metadata": {
        "id": "yjv1FNiIErPE"
      },
      "outputs": [],
      "source": []
    }
  ],
  "metadata": {
    "kernelspec": {
      "display_name": "Python 3",
      "language": "python",
      "name": "python3"
    },
    "language_info": {
      "codemirror_mode": {
        "name": "ipython",
        "version": 3
      },
      "file_extension": ".py",
      "mimetype": "text/x-python",
      "name": "python",
      "nbconvert_exporter": "python",
      "pygments_lexer": "ipython3",
      "version": "3.8.5"
    },
    "colab": {
      "provenance": [],
      "include_colab_link": true
    }
  },
  "nbformat": 4,
  "nbformat_minor": 0
}